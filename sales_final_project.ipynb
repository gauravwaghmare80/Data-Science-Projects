{
  "cells": [
    {
      "cell_type": "code",
      "execution_count": 1,
      "metadata": {
        "colab": {
          "base_uri": "https://localhost:8080/"
        },
        "id": "DmIxCkpKbuPQ",
        "outputId": "fdedf6aa-540d-4177-8fc5-5247c45bfb77"
      },
      "outputs": [
        {
          "name": "stdout",
          "output_type": "stream",
          "text": [
            "Collecting findspark\n",
            "  Downloading findspark-2.0.1-py2.py3-none-any.whl.metadata (352 bytes)\n",
            "Downloading findspark-2.0.1-py2.py3-none-any.whl (4.4 kB)\n",
            "Installing collected packages: findspark\n",
            "Successfully installed findspark-2.0.1\n"
          ]
        }
      ],
      "source": [
        "!pip install findspark\n",
        "import findspark\n",
        "findspark.init()\n",
        "\n",
        "from pyspark.sql import SparkSession\n",
        "\n",
        "spark = SparkSession.builder \\\n",
        "    .appName(\"Colab PySpark Example\") \\\n",
        "    .getOrCreate()"
      ]
    },
    {
      "cell_type": "code",
      "execution_count": null,
      "metadata": {
        "colab": {
          "base_uri": "https://localhost:8080/",
          "height": 70
        },
        "id": "BTv2JfJBbXhY",
        "outputId": "e9e59b2c-f392-434c-8a7f-905ef2c5e011"
      },
      "outputs": [
        {
          "data": {
            "text/plain": [
              "DataFrame[Row ID: int, Order ID: string, Order Date: string, Ship Date: string, Ship Mode: string, Customer ID: string, Customer Name: string, Segment: string, Country: string, City: string, State: string, Postal Code: int, Region: string, Product ID: string, Category: string, Sub-Category: string, Product Name: string, Sales: string]"
            ]
          },
          "metadata": {},
          "output_type": "display_data"
        }
      ],
      "source": [
        "df = spark.read.csv(\"sales_dataset.csv\", header=True, inferSchema=True)\n",
        "display(df)\n"
      ]
    },
    {
      "cell_type": "code",
      "execution_count": 6,
      "metadata": {
        "colab": {
          "base_uri": "https://localhost:8080/"
        },
        "id": "Z5ykyC-jcsoA",
        "outputId": "25390599-b259-4d63-aae0-56023e1b2b92"
      },
      "outputs": [
        {
          "name": "stdout",
          "output_type": "stream",
          "text": [
            "+------+--------------+----------+----------+--------------+-----------+------------------+-----------+-------------+---------------+--------------+-----------+-------+---------------+---------------+------------+--------------------+--------+\n",
            "|Row ID|      Order ID|Order Date| Ship Date|     Ship Mode|Customer ID|     Customer Name|    Segment|      Country|           City|         State|Postal Code| Region|     Product ID|       Category|Sub-Category|        Product Name|   Sales|\n",
            "+------+--------------+----------+----------+--------------+-----------+------------------+-----------+-------------+---------------+--------------+-----------+-------+---------------+---------------+------------+--------------------+--------+\n",
            "|     1|CA-2017-152156|08/11/2017|11/11/2017|  Second Class|   CG-12520|       Claire Gute|   Consumer|United States|      Henderson|      Kentucky|      42420|  South|FUR-BO-10001798|      Furniture|   Bookcases|Bush Somerset Col...|  261.96|\n",
            "|     2|CA-2017-152156|08/11/2017|11/11/2017|  Second Class|   CG-12520|       Claire Gute|   Consumer|United States|      Henderson|      Kentucky|      42420|  South|FUR-CH-10000454|      Furniture|      Chairs|Hon Deluxe Fabric...|  731.94|\n",
            "|     3|CA-2017-138688|12/06/2017|16/06/2017|  Second Class|   DV-13045|   Darrin Van Huff|  Corporate|United States|    Los Angeles|    California|      90036|   West|OFF-LA-10000240|Office Supplies|      Labels|Self-Adhesive Add...|   14.62|\n",
            "|     4|US-2016-108966|11/10/2016|18/10/2016|Standard Class|   SO-20335|    Sean O'Donnell|   Consumer|United States|Fort Lauderdale|       Florida|      33311|  South|FUR-TA-10000577|      Furniture|      Tables|Bretford CR4500 S...|957.5775|\n",
            "|     5|US-2016-108966|11/10/2016|18/10/2016|Standard Class|   SO-20335|    Sean O'Donnell|   Consumer|United States|Fort Lauderdale|       Florida|      33311|  South|OFF-ST-10000760|Office Supplies|     Storage|Eldon Fold 'N Rol...|  22.368|\n",
            "|     6|CA-2015-115812|09/06/2015|14/06/2015|Standard Class|   BH-11710|   Brosina Hoffman|   Consumer|United States|    Los Angeles|    California|      90032|   West|FUR-FU-10001487|      Furniture| Furnishings|Eldon Expressions...|   48.86|\n",
            "|     7|CA-2015-115812|09/06/2015|14/06/2015|Standard Class|   BH-11710|   Brosina Hoffman|   Consumer|United States|    Los Angeles|    California|      90032|   West|OFF-AR-10002833|Office Supplies|         Art|          Newell 322|    7.28|\n",
            "|     8|CA-2015-115812|09/06/2015|14/06/2015|Standard Class|   BH-11710|   Brosina Hoffman|   Consumer|United States|    Los Angeles|    California|      90032|   West|TEC-PH-10002275|     Technology|      Phones|Mitel 5320 IP Pho...| 907.152|\n",
            "|     9|CA-2015-115812|09/06/2015|14/06/2015|Standard Class|   BH-11710|   Brosina Hoffman|   Consumer|United States|    Los Angeles|    California|      90032|   West|OFF-BI-10003910|Office Supplies|     Binders|DXL Angle-View Bi...|  18.504|\n",
            "|    10|CA-2015-115812|09/06/2015|14/06/2015|Standard Class|   BH-11710|   Brosina Hoffman|   Consumer|United States|    Los Angeles|    California|      90032|   West|OFF-AP-10002892|Office Supplies|  Appliances|Belkin F5C206VTEL...|   114.9|\n",
            "|    11|CA-2015-115812|09/06/2015|14/06/2015|Standard Class|   BH-11710|   Brosina Hoffman|   Consumer|United States|    Los Angeles|    California|      90032|   West|FUR-TA-10001539|      Furniture|      Tables|Chromcraft Rectan...|1706.184|\n",
            "|    12|CA-2015-115812|09/06/2015|14/06/2015|Standard Class|   BH-11710|   Brosina Hoffman|   Consumer|United States|    Los Angeles|    California|      90032|   West|TEC-PH-10002033|     Technology|      Phones|Konftel 250 Confe...| 911.424|\n",
            "|    13|CA-2018-114412|15/04/2018|20/04/2018|Standard Class|   AA-10480|      Andrew Allen|   Consumer|United States|        Concord|North Carolina|      28027|  South|OFF-PA-10002365|Office Supplies|       Paper|          Xerox 1967|  15.552|\n",
            "|    14|CA-2017-161389|05/12/2017|10/12/2017|Standard Class|   IM-15070|      Irene Maddox|   Consumer|United States|        Seattle|    Washington|      98103|   West|OFF-BI-10003656|Office Supplies|     Binders|Fellowes PB200 Pl...| 407.976|\n",
            "|    15|US-2016-118983|22/11/2016|26/11/2016|Standard Class|   HP-14815|     Harold Pawlan|Home Office|United States|     Fort Worth|         Texas|      76106|Central|OFF-AP-10002311|Office Supplies|  Appliances|Holmes Replacemen...|   68.81|\n",
            "|    16|US-2016-118983|22/11/2016|26/11/2016|Standard Class|   HP-14815|     Harold Pawlan|Home Office|United States|     Fort Worth|         Texas|      76106|Central|OFF-BI-10000756|Office Supplies|     Binders|Storex DuraTech R...|   2.544|\n",
            "|    17|CA-2015-105893|11/11/2015|18/11/2015|Standard Class|   PK-19075|         Pete Kriz|   Consumer|United States|        Madison|     Wisconsin|      53711|Central|OFF-ST-10004186|Office Supplies|     Storage|\"Stur-D-Stor Shel...|  665.88|\n",
            "|    18|CA-2015-167164|13/05/2015|15/05/2015|  Second Class|   AG-10270|   Alejandro Grove|   Consumer|United States|    West Jordan|          Utah|      84084|   West|OFF-ST-10000107|Office Supplies|     Storage|Fellowes Super St...|    55.5|\n",
            "|    19|CA-2015-143336|27/08/2015|01/09/2015|  Second Class|   ZD-21925|Zuschuss Donatelli|   Consumer|United States|  San Francisco|    California|      94109|   West|OFF-AR-10003056|Office Supplies|         Art|          Newell 341|    8.56|\n",
            "|    20|CA-2015-143336|27/08/2015|01/09/2015|  Second Class|   ZD-21925|Zuschuss Donatelli|   Consumer|United States|  San Francisco|    California|      94109|   West|TEC-PH-10001949|     Technology|      Phones|Cisco SPA 501G IP...|  213.48|\n",
            "+------+--------------+----------+----------+--------------+-----------+------------------+-----------+-------------+---------------+--------------+-----------+-------+---------------+---------------+------------+--------------------+--------+\n",
            "only showing top 20 rows\n",
            "\n"
          ]
        }
      ],
      "source": [
        "df.show()"
      ]
    },
    {
      "cell_type": "code",
      "execution_count": 7,
      "metadata": {
        "id": "adIJ3DbKdVGM"
      },
      "outputs": [],
      "source": [
        "df.createOrReplaceTempView(\"sample\")"
      ]
    },
    {
      "cell_type": "markdown",
      "metadata": {
        "id": "XxXpcBuQd9J3"
      },
      "source": [
        "1.count of total number of customers\n"
      ]
    },
    {
      "cell_type": "code",
      "execution_count": 18,
      "metadata": {
        "colab": {
          "base_uri": "https://localhost:8080/"
        },
        "id": "NWtJf3JydaAY",
        "outputId": "16e7a77c-d710-41c6-a09e-01009a050698"
      },
      "outputs": [
        {
          "name": "stdout",
          "output_type": "stream",
          "text": [
            "+---------------------------+\n",
            "|count(DISTINCT customer ID)|\n",
            "+---------------------------+\n",
            "|                        793|\n",
            "+---------------------------+\n",
            "\n"
          ]
        }
      ],
      "source": [
        "spark.sql(\"SELECT count(distinct `customer ID`)from sample\").show()"
      ]
    },
    {
      "cell_type": "markdown",
      "metadata": {
        "id": "7CHS-K6rbuUw"
      },
      "source": [
        "2.order on weekly and monthly basis"
      ]
    },
    {
      "cell_type": "code",
      "execution_count": 9,
      "metadata": {
        "colab": {
          "base_uri": "https://localhost:8080/"
        },
        "id": "MgiQpVRrb6Hm",
        "outputId": "b1b0ddf3-a1ae-420b-b16d-65ff91e4122d"
      },
      "outputs": [
        {
          "name": "stdout",
          "output_type": "stream",
          "text": [
            "+---------------------------+\n",
            "|count(DISTINCT customer ID)|\n",
            "+---------------------------+\n",
            "|                          0|\n",
            "+---------------------------+\n",
            "\n"
          ]
        }
      ],
      "source": [
        "spark.sql(\"SELECT count(distinct `customer ID`) from sample where `Order Date` between '2016-10-11' and '2017-11-08'\").show()"
      ]
    },
    {
      "cell_type": "markdown",
      "metadata": {
        "id": "UXrZG5StdAZg"
      },
      "source": []
    },
    {
      "cell_type": "markdown",
      "metadata": {
        "id": "bed5e452"
      },
      "source": [
        "You can change the value of the `time_period` variable in the code cell below to switch between 'Weekly' and 'Monthly' analysis."
      ]
    },
    {
      "cell_type": "code",
      "execution_count": 11,
      "metadata": {
        "colab": {
          "base_uri": "https://localhost:8080/"
        },
        "id": "64e50f93",
        "outputId": "216e7ebd-ce98-4ca4-fcce-1e4bfe78f30b"
      },
      "outputs": [
        {
          "name": "stdout",
          "output_type": "stream",
          "text": [
            "Time period selected: Weekly\n"
          ]
        }
      ],
      "source": [
        "time_period = 'Weekly' # Change this to 'Monthly' to analyze data monthly\n",
        "print(f\"Time period selected: {time_period}\")"
      ]
    },
    {
      "cell_type": "markdown",
      "metadata": {
        "id": "MQcNbJIPhnlb"
      },
      "source": [
        "for dropdown list we have to install the ipywidgets\n"
      ]
    },
    {
      "cell_type": "code",
      "execution_count": 12,
      "metadata": {
        "colab": {
          "base_uri": "https://localhost:8080/"
        },
        "id": "_k9pOzw8h28v",
        "outputId": "c0fe9949-d77e-4d3b-cea8-08f9e2a79ab1"
      },
      "outputs": [
        {
          "name": "stdout",
          "output_type": "stream",
          "text": [
            "Requirement already satisfied: ipywidgets in /usr/local/lib/python3.12/dist-packages (7.7.1)\n",
            "Requirement already satisfied: ipykernel>=4.5.1 in /usr/local/lib/python3.12/dist-packages (from ipywidgets) (6.17.1)\n",
            "Requirement already satisfied: ipython-genutils~=0.2.0 in /usr/local/lib/python3.12/dist-packages (from ipywidgets) (0.2.0)\n",
            "Requirement already satisfied: traitlets>=4.3.1 in /usr/local/lib/python3.12/dist-packages (from ipywidgets) (5.7.1)\n",
            "Requirement already satisfied: widgetsnbextension~=3.6.0 in /usr/local/lib/python3.12/dist-packages (from ipywidgets) (3.6.10)\n",
            "Requirement already satisfied: ipython>=4.0.0 in /usr/local/lib/python3.12/dist-packages (from ipywidgets) (7.34.0)\n",
            "Requirement already satisfied: jupyterlab-widgets>=1.0.0 in /usr/local/lib/python3.12/dist-packages (from ipywidgets) (3.0.15)\n",
            "Requirement already satisfied: debugpy>=1.0 in /usr/local/lib/python3.12/dist-packages (from ipykernel>=4.5.1->ipywidgets) (1.8.15)\n",
            "Requirement already satisfied: jupyter-client>=6.1.12 in /usr/local/lib/python3.12/dist-packages (from ipykernel>=4.5.1->ipywidgets) (6.1.12)\n",
            "Requirement already satisfied: matplotlib-inline>=0.1 in /usr/local/lib/python3.12/dist-packages (from ipykernel>=4.5.1->ipywidgets) (0.1.7)\n",
            "Requirement already satisfied: nest-asyncio in /usr/local/lib/python3.12/dist-packages (from ipykernel>=4.5.1->ipywidgets) (1.6.0)\n",
            "Requirement already satisfied: packaging in /usr/local/lib/python3.12/dist-packages (from ipykernel>=4.5.1->ipywidgets) (25.0)\n",
            "Requirement already satisfied: psutil in /usr/local/lib/python3.12/dist-packages (from ipykernel>=4.5.1->ipywidgets) (5.9.5)\n",
            "Requirement already satisfied: pyzmq>=17 in /usr/local/lib/python3.12/dist-packages (from ipykernel>=4.5.1->ipywidgets) (26.2.1)\n",
            "Requirement already satisfied: tornado>=6.1 in /usr/local/lib/python3.12/dist-packages (from ipykernel>=4.5.1->ipywidgets) (6.4.2)\n",
            "Requirement already satisfied: setuptools>=18.5 in /usr/local/lib/python3.12/dist-packages (from ipython>=4.0.0->ipywidgets) (75.2.0)\n",
            "Collecting jedi>=0.16 (from ipython>=4.0.0->ipywidgets)\n",
            "  Downloading jedi-0.19.2-py2.py3-none-any.whl.metadata (22 kB)\n",
            "Requirement already satisfied: decorator in /usr/local/lib/python3.12/dist-packages (from ipython>=4.0.0->ipywidgets) (4.4.2)\n",
            "Requirement already satisfied: pickleshare in /usr/local/lib/python3.12/dist-packages (from ipython>=4.0.0->ipywidgets) (0.7.5)\n",
            "Requirement already satisfied: prompt-toolkit!=3.0.0,!=3.0.1,<3.1.0,>=2.0.0 in /usr/local/lib/python3.12/dist-packages (from ipython>=4.0.0->ipywidgets) (3.0.51)\n",
            "Requirement already satisfied: pygments in /usr/local/lib/python3.12/dist-packages (from ipython>=4.0.0->ipywidgets) (2.19.2)\n",
            "Requirement already satisfied: backcall in /usr/local/lib/python3.12/dist-packages (from ipython>=4.0.0->ipywidgets) (0.2.0)\n",
            "Requirement already satisfied: pexpect>4.3 in /usr/local/lib/python3.12/dist-packages (from ipython>=4.0.0->ipywidgets) (4.9.0)\n",
            "Requirement already satisfied: notebook>=4.4.1 in /usr/local/lib/python3.12/dist-packages (from widgetsnbextension~=3.6.0->ipywidgets) (6.5.7)\n",
            "Requirement already satisfied: parso<0.9.0,>=0.8.4 in /usr/local/lib/python3.12/dist-packages (from jedi>=0.16->ipython>=4.0.0->ipywidgets) (0.8.4)\n",
            "Requirement already satisfied: jupyter-core>=4.6.0 in /usr/local/lib/python3.12/dist-packages (from jupyter-client>=6.1.12->ipykernel>=4.5.1->ipywidgets) (5.8.1)\n",
            "Requirement already satisfied: python-dateutil>=2.1 in /usr/local/lib/python3.12/dist-packages (from jupyter-client>=6.1.12->ipykernel>=4.5.1->ipywidgets) (2.9.0.post0)\n",
            "Requirement already satisfied: jinja2 in /usr/local/lib/python3.12/dist-packages (from notebook>=4.4.1->widgetsnbextension~=3.6.0->ipywidgets) (3.1.6)\n",
            "Requirement already satisfied: argon2-cffi in /usr/local/lib/python3.12/dist-packages (from notebook>=4.4.1->widgetsnbextension~=3.6.0->ipywidgets) (25.1.0)\n",
            "Requirement already satisfied: nbformat in /usr/local/lib/python3.12/dist-packages (from notebook>=4.4.1->widgetsnbextension~=3.6.0->ipywidgets) (5.10.4)\n",
            "Requirement already satisfied: nbconvert>=5 in /usr/local/lib/python3.12/dist-packages (from notebook>=4.4.1->widgetsnbextension~=3.6.0->ipywidgets) (7.16.6)\n",
            "Requirement already satisfied: Send2Trash>=1.8.0 in /usr/local/lib/python3.12/dist-packages (from notebook>=4.4.1->widgetsnbextension~=3.6.0->ipywidgets) (1.8.3)\n",
            "Requirement already satisfied: terminado>=0.8.3 in /usr/local/lib/python3.12/dist-packages (from notebook>=4.4.1->widgetsnbextension~=3.6.0->ipywidgets) (0.18.1)\n",
            "Requirement already satisfied: prometheus-client in /usr/local/lib/python3.12/dist-packages (from notebook>=4.4.1->widgetsnbextension~=3.6.0->ipywidgets) (0.22.1)\n",
            "Requirement already satisfied: nbclassic>=0.4.7 in /usr/local/lib/python3.12/dist-packages (from notebook>=4.4.1->widgetsnbextension~=3.6.0->ipywidgets) (1.3.1)\n",
            "Requirement already satisfied: ptyprocess>=0.5 in /usr/local/lib/python3.12/dist-packages (from pexpect>4.3->ipython>=4.0.0->ipywidgets) (0.7.0)\n",
            "Requirement already satisfied: wcwidth in /usr/local/lib/python3.12/dist-packages (from prompt-toolkit!=3.0.0,!=3.0.1,<3.1.0,>=2.0.0->ipython>=4.0.0->ipywidgets) (0.2.13)\n",
            "Requirement already satisfied: platformdirs>=2.5 in /usr/local/lib/python3.12/dist-packages (from jupyter-core>=4.6.0->jupyter-client>=6.1.12->ipykernel>=4.5.1->ipywidgets) (4.3.8)\n",
            "Requirement already satisfied: notebook-shim>=0.2.3 in /usr/local/lib/python3.12/dist-packages (from nbclassic>=0.4.7->notebook>=4.4.1->widgetsnbextension~=3.6.0->ipywidgets) (0.2.4)\n",
            "Requirement already satisfied: beautifulsoup4 in /usr/local/lib/python3.12/dist-packages (from nbconvert>=5->notebook>=4.4.1->widgetsnbextension~=3.6.0->ipywidgets) (4.13.4)\n",
            "Requirement already satisfied: bleach!=5.0.0 in /usr/local/lib/python3.12/dist-packages (from bleach[css]!=5.0.0->nbconvert>=5->notebook>=4.4.1->widgetsnbextension~=3.6.0->ipywidgets) (6.2.0)\n",
            "Requirement already satisfied: defusedxml in /usr/local/lib/python3.12/dist-packages (from nbconvert>=5->notebook>=4.4.1->widgetsnbextension~=3.6.0->ipywidgets) (0.7.1)\n",
            "Requirement already satisfied: jupyterlab-pygments in /usr/local/lib/python3.12/dist-packages (from nbconvert>=5->notebook>=4.4.1->widgetsnbextension~=3.6.0->ipywidgets) (0.3.0)\n",
            "Requirement already satisfied: markupsafe>=2.0 in /usr/local/lib/python3.12/dist-packages (from nbconvert>=5->notebook>=4.4.1->widgetsnbextension~=3.6.0->ipywidgets) (3.0.2)\n",
            "Requirement already satisfied: mistune<4,>=2.0.3 in /usr/local/lib/python3.12/dist-packages (from nbconvert>=5->notebook>=4.4.1->widgetsnbextension~=3.6.0->ipywidgets) (3.1.3)\n",
            "Requirement already satisfied: nbclient>=0.5.0 in /usr/local/lib/python3.12/dist-packages (from nbconvert>=5->notebook>=4.4.1->widgetsnbextension~=3.6.0->ipywidgets) (0.10.2)\n",
            "Requirement already satisfied: pandocfilters>=1.4.1 in /usr/local/lib/python3.12/dist-packages (from nbconvert>=5->notebook>=4.4.1->widgetsnbextension~=3.6.0->ipywidgets) (1.5.1)\n",
            "Requirement already satisfied: fastjsonschema>=2.15 in /usr/local/lib/python3.12/dist-packages (from nbformat->notebook>=4.4.1->widgetsnbextension~=3.6.0->ipywidgets) (2.21.2)\n",
            "Requirement already satisfied: jsonschema>=2.6 in /usr/local/lib/python3.12/dist-packages (from nbformat->notebook>=4.4.1->widgetsnbextension~=3.6.0->ipywidgets) (4.25.0)\n",
            "Requirement already satisfied: six>=1.5 in /usr/local/lib/python3.12/dist-packages (from python-dateutil>=2.1->jupyter-client>=6.1.12->ipykernel>=4.5.1->ipywidgets) (1.17.0)\n",
            "Requirement already satisfied: argon2-cffi-bindings in /usr/local/lib/python3.12/dist-packages (from argon2-cffi->notebook>=4.4.1->widgetsnbextension~=3.6.0->ipywidgets) (25.1.0)\n",
            "Requirement already satisfied: webencodings in /usr/local/lib/python3.12/dist-packages (from bleach!=5.0.0->bleach[css]!=5.0.0->nbconvert>=5->notebook>=4.4.1->widgetsnbextension~=3.6.0->ipywidgets) (0.5.1)\n",
            "Requirement already satisfied: tinycss2<1.5,>=1.1.0 in /usr/local/lib/python3.12/dist-packages (from bleach[css]!=5.0.0->nbconvert>=5->notebook>=4.4.1->widgetsnbextension~=3.6.0->ipywidgets) (1.4.0)\n",
            "Requirement already satisfied: attrs>=22.2.0 in /usr/local/lib/python3.12/dist-packages (from jsonschema>=2.6->nbformat->notebook>=4.4.1->widgetsnbextension~=3.6.0->ipywidgets) (25.3.0)\n",
            "Requirement already satisfied: jsonschema-specifications>=2023.03.6 in /usr/local/lib/python3.12/dist-packages (from jsonschema>=2.6->nbformat->notebook>=4.4.1->widgetsnbextension~=3.6.0->ipywidgets) (2025.4.1)\n",
            "Requirement already satisfied: referencing>=0.28.4 in /usr/local/lib/python3.12/dist-packages (from jsonschema>=2.6->nbformat->notebook>=4.4.1->widgetsnbextension~=3.6.0->ipywidgets) (0.36.2)\n",
            "Requirement already satisfied: rpds-py>=0.7.1 in /usr/local/lib/python3.12/dist-packages (from jsonschema>=2.6->nbformat->notebook>=4.4.1->widgetsnbextension~=3.6.0->ipywidgets) (0.27.0)\n",
            "Requirement already satisfied: jupyter-server<3,>=1.8 in /usr/local/lib/python3.12/dist-packages (from notebook-shim>=0.2.3->nbclassic>=0.4.7->notebook>=4.4.1->widgetsnbextension~=3.6.0->ipywidgets) (1.16.0)\n",
            "Requirement already satisfied: cffi>=1.0.1 in /usr/local/lib/python3.12/dist-packages (from argon2-cffi-bindings->argon2-cffi->notebook>=4.4.1->widgetsnbextension~=3.6.0->ipywidgets) (1.17.1)\n",
            "Requirement already satisfied: soupsieve>1.2 in /usr/local/lib/python3.12/dist-packages (from beautifulsoup4->nbconvert>=5->notebook>=4.4.1->widgetsnbextension~=3.6.0->ipywidgets) (2.7)\n",
            "Requirement already satisfied: typing-extensions>=4.0.0 in /usr/local/lib/python3.12/dist-packages (from beautifulsoup4->nbconvert>=5->notebook>=4.4.1->widgetsnbextension~=3.6.0->ipywidgets) (4.14.1)\n",
            "Requirement already satisfied: pycparser in /usr/local/lib/python3.12/dist-packages (from cffi>=1.0.1->argon2-cffi-bindings->argon2-cffi->notebook>=4.4.1->widgetsnbextension~=3.6.0->ipywidgets) (2.22)\n",
            "Requirement already satisfied: anyio>=3.1.0 in /usr/local/lib/python3.12/dist-packages (from jupyter-server<3,>=1.8->notebook-shim>=0.2.3->nbclassic>=0.4.7->notebook>=4.4.1->widgetsnbextension~=3.6.0->ipywidgets) (4.10.0)\n",
            "Requirement already satisfied: websocket-client in /usr/local/lib/python3.12/dist-packages (from jupyter-server<3,>=1.8->notebook-shim>=0.2.3->nbclassic>=0.4.7->notebook>=4.4.1->widgetsnbextension~=3.6.0->ipywidgets) (1.8.0)\n",
            "Requirement already satisfied: idna>=2.8 in /usr/local/lib/python3.12/dist-packages (from anyio>=3.1.0->jupyter-server<3,>=1.8->notebook-shim>=0.2.3->nbclassic>=0.4.7->notebook>=4.4.1->widgetsnbextension~=3.6.0->ipywidgets) (3.10)\n",
            "Requirement already satisfied: sniffio>=1.1 in /usr/local/lib/python3.12/dist-packages (from anyio>=3.1.0->jupyter-server<3,>=1.8->notebook-shim>=0.2.3->nbclassic>=0.4.7->notebook>=4.4.1->widgetsnbextension~=3.6.0->ipywidgets) (1.3.1)\n",
            "Downloading jedi-0.19.2-py2.py3-none-any.whl (1.6 MB)\n",
            "\u001b[2K   \u001b[90m━━━━━━━━━━━━━━━━━━━━━━━━━━━━━━━━━━━━━━━━\u001b[0m \u001b[32m1.6/1.6 MB\u001b[0m \u001b[31m16.5 MB/s\u001b[0m eta \u001b[36m0:00:00\u001b[0m\n",
            "\u001b[?25hInstalling collected packages: jedi\n",
            "Successfully installed jedi-0.19.2\n"
          ]
        }
      ],
      "source": [
        "# Install ipywidgets if not installed\n",
        "!pip install ipywidgets"
      ]
    },
    {
      "cell_type": "markdown",
      "metadata": {
        "id": "E-9NEVpbiOEc"
      },
      "source": [
        "For start monthly and weekly basis date"
      ]
    },
    {
      "cell_type": "code",
      "execution_count": 19,
      "metadata": {
        "colab": {
          "base_uri": "https://localhost:8080/",
          "height": 209,
          "referenced_widgets": [
            "fc9065a294684d319b9696dc2db09f6f",
            "8a6c114f783a4414b789d734e9bf3e72",
            "d60e630103ff414185ad7eae6bd93214"
          ]
        },
        "id": "OIhuHctlew9D",
        "outputId": "37c6690c-b9a8-4250-aca9-53716906a82e"
      },
      "outputs": [
        {
          "data": {
            "application/vnd.jupyter.widget-view+json": {
              "model_id": "fc9065a294684d319b9696dc2db09f6f",
              "version_major": 2,
              "version_minor": 0
            },
            "text/plain": [
              "Dropdown(description='Time Period:', options=('Weekly', 'Monthly'), value='Weekly')"
            ]
          },
          "metadata": {},
          "output_type": "display_data"
        },
        {
          "name": "stdout",
          "output_type": "stream",
          "text": [
            "Selected: Weekly\n",
            "Start Date: 2025-08-10\n",
            "End Date: 2025-08-16\n",
            "Selected: Monthly\n",
            "Start Date: 2025-07-01\n",
            "End Date: 2025-07-31\n",
            "Selected: Weekly\n",
            "Start Date: 2025-08-10\n",
            "End Date: 2025-08-16\n"
          ]
        }
      ],
      "source": [
        "from datetime import date, timedelta\n",
        "import ipywidgets as widgets\n",
        "from IPython.display import display\n",
        "\n",
        "# Global variables (initialized as None)\n",
        "start_date, end_date = None, None\n",
        "\n",
        "# Create dropdown widget\n",
        "time_period_dropdown = widgets.Dropdown(\n",
        "    options=['Weekly', 'Monthly'],\n",
        "    value='Weekly',\n",
        "    description='Time Period:',\n",
        ")\n",
        "\n",
        "display(time_period_dropdown)\n",
        "\n",
        "def calculate_dates(change=None):\n",
        "    global start_date, end_date   # make them accessible outside the function\n",
        "\n",
        "    time_period = time_period_dropdown.value\n",
        "    print(\"Selected:\", time_period)\n",
        "\n",
        "    today = date.today()\n",
        "\n",
        "    if time_period.lower() == 'weekly':\n",
        "        start_date = today - timedelta(days=today.weekday(), weeks=1) - timedelta(days=1)\n",
        "        end_date = start_date + timedelta(days=6)\n",
        "    else:\n",
        "        first = today.replace(day=1)\n",
        "        end_date = first - timedelta(days=1)\n",
        "        start_date = first - timedelta(days=end_date.day)\n",
        "\n",
        "    print(\"Start Date:\", start_date)\n",
        "    print(\"End Date:\", end_date)\n",
        "\n",
        "# Attach event listener so when you change dropdown, function runs\n",
        "time_period_dropdown.observe(calculate_dates, names='value')\n",
        "\n",
        "# Run once initially\n",
        "calculate_dates()\n",
        "\n",
        "# Now these variables exist globally\n",
        "start_date_str = start_date.strftime(\"%Y-%m-%d\")\n",
        "end_date_str = end_date.strftime(\"%Y-%m-%d\")\n",
        "\n",
        "\n"
      ]
    },
    {
      "cell_type": "code",
      "execution_count": 24,
      "metadata": {
        "colab": {
          "base_uri": "https://localhost:8080/"
        },
        "id": "814pYJvuia9R",
        "outputId": "76e520ea-45f2-44d8-b4ea-4a52a550b031"
      },
      "outputs": [
        {
          "name": "stdout",
          "output_type": "stream",
          "text": [
            "+---------------------------+\n",
            "|count(DISTINCT customer ID)|\n",
            "+---------------------------+\n",
            "|                          0|\n",
            "+---------------------------+\n",
            "\n"
          ]
        }
      ],
      "source": [
        "\n",
        "\n",
        "result_df=spark.sql(f\"\"\"SELECT count(distinct `customer ID`) from sample where `Order Date` between '{start_date_str}' and '{end_date_str}'\"\"\")\n",
        "result_df.show()"
      ]
    },
    {
      "cell_type": "markdown",
      "metadata": {
        "id": "y8aoT3CBmmvF"
      },
      "source": [
        "3.total number of order"
      ]
    },
    {
      "cell_type": "code",
      "execution_count": 25,
      "metadata": {
        "colab": {
          "base_uri": "https://localhost:8080/"
        },
        "id": "Ozg1UZkGmqtH",
        "outputId": "b6b413d0-1d79-4c11-df0b-88828b908872"
      },
      "outputs": [
        {
          "name": "stdout",
          "output_type": "stream",
          "text": [
            "+------------------------+\n",
            "|count(DISTINCT Order ID)|\n",
            "+------------------------+\n",
            "|                    4922|\n",
            "+------------------------+\n",
            "\n"
          ]
        }
      ],
      "source": [
        "spark.sql(\"SELECT count(distinct `Order ID`)from sample\").show()"
      ]
    },
    {
      "cell_type": "markdown",
      "metadata": {
        "id": "MIQkL23JnO0o"
      },
      "source": [
        "4.Total number of oredrs on perticular month or week"
      ]
    },
    {
      "cell_type": "code",
      "execution_count": 27,
      "metadata": {
        "colab": {
          "base_uri": "https://localhost:8080/"
        },
        "id": "ae3oBEivnX_1",
        "outputId": "9c5b479a-4e64-4ca5-8f2c-63e542da72b0"
      },
      "outputs": [
        {
          "name": "stdout",
          "output_type": "stream",
          "text": [
            "+---------------------------+\n",
            "|count(DISTINCT customer ID)|\n",
            "+---------------------------+\n",
            "|                          0|\n",
            "+---------------------------+\n",
            "\n"
          ]
        }
      ],
      "source": [
        "\n",
        "\n",
        "result_df1=spark.sql(f\"\"\"SELECT count(distinct `customer ID`) from sample where `Order Date` between '{start_date_str}' and '{end_date_str}'\"\"\")\n",
        "result_df1.show()"
      ]
    },
    {
      "cell_type": "markdown",
      "metadata": {
        "id": "fODP0U3Wn0t8"
      },
      "source": [
        "5.total sales and profit"
      ]
    },
    {
      "cell_type": "code",
      "execution_count": null,
      "metadata": {
        "id": "D8OpqG4on8UN"
      },
      "outputs": [],
      "source": [
        "#sale and profit columns not present in this dataset\n",
        "spark.sql(\"SELECT sum(`sales`), sum('profit')from sample\").show()"
      ]
    },
    {
      "cell_type": "markdown",
      "metadata": {
        "id": "ni5jiIHap6H8"
      },
      "source": [
        "6.Top sales by country"
      ]
    },
    {
      "cell_type": "code",
      "execution_count": 29,
      "metadata": {
        "colab": {
          "base_uri": "https://localhost:8080/"
        },
        "id": "HEFF1wy4qJDF",
        "outputId": "804f276a-e292-48c0-ab59-ee5b3b701b2e"
      },
      "outputs": [
        {
          "name": "stdout",
          "output_type": "stream",
          "text": [
            "+-------------+------------------+\n",
            "|      Country|       total_sales|\n",
            "+-------------+------------------+\n",
            "|United States|2237133.1626999523|\n",
            "+-------------+------------------+\n",
            "\n"
          ]
        }
      ],
      "source": [
        "top_sales_bycountry=spark.sql(\"\"\"\n",
        "    SELECT Country, SUM(Sales) as total_sales\n",
        "    FROM sample\n",
        "    GROUP BY Country\n",
        "\"\"\")\n",
        "top_sales_bycountry.show()"
      ]
    },
    {
      "cell_type": "markdown",
      "metadata": {
        "id": "EO8UIaafrhbw"
      },
      "source": [
        "7.Most profitable region/country"
      ]
    },
    {
      "cell_type": "code",
      "execution_count": 37,
      "metadata": {
        "colab": {
          "base_uri": "https://localhost:8080/"
        },
        "id": "QgUasdfmslVz",
        "outputId": "a1eadf7e-b779-4691-938f-562228eedcd8"
      },
      "outputs": [
        {
          "name": "stdout",
          "output_type": "stream",
          "text": [
            "+-------------+-------+------------------+\n",
            "|      Country| Region|       total_sales|\n",
            "+-------------+-------+------------------+\n",
            "|United States|   West| 698354.7745000002|\n",
            "|United States|   East| 663043.8579999986|\n",
            "|United States|Central|489321.39120000065|\n",
            "|United States|  South|386413.13900000043|\n",
            "+-------------+-------+------------------+\n",
            "\n"
          ]
        }
      ],
      "source": [
        "top_region = spark.sql(\"\"\"\n",
        "    SELECT Country, Region, SUM(Sales) as total_sales\n",
        "    FROM sample\n",
        "    GROUP BY Country, Region\n",
        "    ORDER BY total_sales DESC\n",
        "\"\"\")\n",
        "\n",
        "top_region.show()\n",
        "\n"
      ]
    },
    {
      "cell_type": "markdown",
      "metadata": {
        "id": "jRsImmeUtOlp"
      },
      "source": [
        "Top sales category"
      ]
    },
    {
      "cell_type": "code",
      "execution_count": 39,
      "metadata": {
        "colab": {
          "base_uri": "https://localhost:8080/"
        },
        "id": "sL-ze0x4uc8Y",
        "outputId": "759cb9d7-2edd-4fff-d3e9-932f42b944dc"
      },
      "outputs": [
        {
          "name": "stdout",
          "output_type": "stream",
          "text": [
            "+-----------------+---------------+\n",
            "|       sum(Sales)| total_category|\n",
            "+-----------------+---------------+\n",
            "|827201.9069999964|     Technology|\n",
            "|690139.8000000035|Office Supplies|\n",
            "|719791.4556999996|      Furniture|\n",
            "+-----------------+---------------+\n",
            "\n"
          ]
        }
      ],
      "source": [
        "top_sales_category = spark.sql(\"\"\"\n",
        "    SELECT SUM(Sales) , Category as total_category\n",
        "    FROM sample\n",
        "    GROUP BY Category\n",
        "    ORDER BY total_category DESC\n",
        "\"\"\")\n",
        "\n",
        "top_sales_category.show()\n"
      ]
    },
    {
      "cell_type": "markdown",
      "metadata": {
        "id": "PmkbzBiuvh-R"
      },
      "source": [
        "top 10 Subcategory\n"
      ]
    },
    {
      "cell_type": "code",
      "execution_count": 47,
      "metadata": {
        "colab": {
          "base_uri": "https://localhost:8080/"
        },
        "id": "K2a0Ia5lvl_A",
        "outputId": "d6b7be68-1e34-4651-aca0-141d12427c33"
      },
      "outputs": [
        {
          "name": "stdout",
          "output_type": "stream",
          "text": [
            "+------------+------------------+\n",
            "| subcategory|        totalsales|\n",
            "+------------+------------------+\n",
            "|Sub-Category|2237133.1626999523|\n",
            "+------------+------------------+\n",
            "\n"
          ]
        }
      ],
      "source": [
        "top_sales_subcategory = spark.sql(\"\"\"\n",
        "    SELECT 'Sub-Category' as subcategory , SUM(sales) as totalsales\n",
        "    FROM sample\n",
        "    GROUP BY 'Sub-Category'\n",
        "    ORDER BY totalsales DESC\n",
        "    limit 10\n",
        "\"\"\")\n",
        "\n",
        "top_sales_subcategory.show()"
      ]
    },
    {
      "cell_type": "markdown",
      "metadata": {
        "id": "nYCQ17-yzcna"
      },
      "source": []
    },
    {
      "cell_type": "code",
      "execution_count": 54,
      "metadata": {
        "colab": {
          "base_uri": "https://localhost:8080/"
        },
        "id": "8caw99S1v40Q",
        "outputId": "e6f97dd0-3a1d-4ad1-bc53-a1ce8cb32cdf"
      },
      "outputs": [
        {
          "name": "stdout",
          "output_type": "stream",
          "text": [
            "+------------------+--------------------+\n",
            "|      CustomerName|         ProductName|\n",
            "+------------------+--------------------+\n",
            "|       Claire Gute|Bush Somerset Col...|\n",
            "|       Claire Gute|Hon Deluxe Fabric...|\n",
            "|   Darrin Van Huff|Self-Adhesive Add...|\n",
            "|    Sean O'Donnell|Bretford CR4500 S...|\n",
            "|    Sean O'Donnell|Eldon Fold 'N Rol...|\n",
            "|   Brosina Hoffman|Eldon Expressions...|\n",
            "|   Brosina Hoffman|          Newell 322|\n",
            "|   Brosina Hoffman|Mitel 5320 IP Pho...|\n",
            "|   Brosina Hoffman|DXL Angle-View Bi...|\n",
            "|   Brosina Hoffman|Belkin F5C206VTEL...|\n",
            "|   Brosina Hoffman|Chromcraft Rectan...|\n",
            "|   Brosina Hoffman|Konftel 250 Confe...|\n",
            "|      Andrew Allen|          Xerox 1967|\n",
            "|      Irene Maddox|Fellowes PB200 Pl...|\n",
            "|     Harold Pawlan|Holmes Replacemen...|\n",
            "|     Harold Pawlan|Storex DuraTech R...|\n",
            "|         Pete Kriz|\"Stur-D-Stor Shel...|\n",
            "|   Alejandro Grove|Fellowes Super St...|\n",
            "|Zuschuss Donatelli|          Newell 341|\n",
            "|Zuschuss Donatelli|Cisco SPA 501G IP...|\n",
            "+------------------+--------------------+\n",
            "only showing top 20 rows\n",
            "\n"
          ]
        }
      ],
      "source": [
        "sales_data_byName = spark.sql(\"\"\"\n",
        "SELECT `Customer Name` as CustomerName , `Product Name` as ProductName\n",
        "From sample\n",
        "\"\"\")\n",
        "\n",
        "sales_data_byName.show()"
      ]
    },
    {
      "cell_type": "markdown",
      "metadata": {
        "id": "vsQsltjw1YrY"
      },
      "source": [
        "Top customer"
      ]
    },
    {
      "cell_type": "code",
      "execution_count": 59,
      "metadata": {
        "colab": {
          "base_uri": "https://localhost:8080/"
        },
        "id": "ry1wa2XS1cKg",
        "outputId": "160539d6-ce90-4386-99cf-8d2a608ac5de"
      },
      "outputs": [
        {
          "name": "stdout",
          "output_type": "stream",
          "text": [
            "+-----------------+------------------+--------------+\n",
            "|     CustomerName|             Sales|          City|\n",
            "+-----------------+------------------+--------------+\n",
            "|      Lisa Hazard|            51.184|         Tyler|\n",
            "|     Joseph Airdo|            34.344|       Phoenix|\n",
            "|    Raymond Messe|            215.65|      San Jose|\n",
            "|        Max Engle|            62.132|       Seattle|\n",
            "|    Jennifer Patt|25.951999999999998|     Oceanside|\n",
            "|      Scot Wooten|            53.344|   Springfield|\n",
            "|     Ben Peterman|            101.12|       Anaheim|\n",
            "|        Don Jones|             91.14|    Woonsocket|\n",
            "|  Thomas Thornton|            182.91|Virginia Beach|\n",
            "|    Kelly Lampkin|            204.55|  Fayetteville|\n",
            "|     Bart Pistole|            829.83|      Lawrence|\n",
            "|       Dan Lawera|              NULL|         Miami|\n",
            "|     Fred Hopkins|176.59199999999998|   Los Angeles|\n",
            "|  Tracy Blumstein|           130.756|      Beaumont|\n",
            "| Jonathan Doherty|            199.18|      Columbia|\n",
            "|   Linda Cazamias|            33.216|       Phoenix|\n",
            "|       Lynn Smith|             13.38|   Los Angeles|\n",
            "|   Laurel Workman|             20.64|      Pasadena|\n",
            "|Russell D'Ascenzo| 57.90799999999999|        Dallas|\n",
            "|      Aimee Bixby| 705.5619999999999|       Yonkers|\n",
            "+-----------------+------------------+--------------+\n",
            "only showing top 20 rows\n",
            "\n"
          ]
        }
      ],
      "source": [
        "top_customer = spark.sql(\"\"\"\n",
        "SELECT `Customer Name` as CustomerName,  sum(sales) as Sales , City\n",
        "from sample\n",
        "group by `Customer Name` , City\n",
        "\"\"\")\n",
        "top_customer.show()"
      ]
    },
    {
      "cell_type": "markdown",
      "metadata": {
        "id": "Y5aittvG5F1D"
      },
      "source": [
        "Top sales visulization"
      ]
    },
    {
      "cell_type": "code",
      "execution_count": 61,
      "metadata": {
        "colab": {
          "base_uri": "https://localhost:8080/",
          "height": 564
        },
        "id": "W4ARZMda4xGC",
        "outputId": "e3233ac7-78a1-485f-aec8-2abfd92e55da"
      },
      "outputs": [
        {
          "data": {
            "image/png": "[encoded data removed]",
            "text/plain": [
              "<Figure size 1000x600 with 1 Axes>"
            ]
          },
          "metadata": {},
          "output_type": "display_data"
        }
      ],
      "source": [
        "import matplotlib.pyplot as plt\n",
        "\n",
        "# Convert Spark DataFrame → Pandas\n",
        "top_customer_pd = top_customer.toPandas()\n",
        "\n",
        "# Plot top 10 customers by sales\n",
        "top10 = top_customer_pd.head(10)\n",
        "\n",
        "plt.figure(figsize=(10,6))\n",
        "plt.barh(top10['CustomerName'], top10['Sales'], color='skyblue')\n",
        "plt.gca().invert_yaxis()  # biggest on top\n",
        "plt.xlabel(\"Total Sales\")\n",
        "plt.ylabel(\"Customer Name\")\n",
        "plt.title(\"Top 10 Customers by Sales\")\n",
        "plt.show()"
      ]
    }
  ],
  "metadata": {
    "colab": {
      "provenance": []
    },
    "kernelspec": {
      "display_name": "Python 3",
      "name": "python3"
    },
    "language_info": {
      "name": "python"
    },
    "widgets": {
      "application/vnd.jupyter.widget-state+json": {
        "8a6c114f783a4414b789d734e9bf3e72": {
          "model_module": "@jupyter-widgets/base",
          "model_module_version": "1.2.0",
          "model_name": "LayoutModel",
          "state": {
            "_model_module": "@jupyter-widgets/base",
            "_model_module_version": "1.2.0",
            "_model_name": "LayoutModel",
            "_view_count": null,
            "_view_module": "@jupyter-widgets/base",
            "_view_module_version": "1.2.0",
            "_view_name": "LayoutView",
            "align_content": null,
            "align_items": null,
            "align_self": null,
            "border": null,
            "bottom": null,
            "display": null,
            "flex": null,
            "flex_flow": null,
            "grid_area": null,
            "grid_auto_columns": null,
            "grid_auto_flow": null,
            "grid_auto_rows": null,
            "grid_column": null,
            "grid_gap": null,
            "grid_row": null,
            "grid_template_areas": null,
            "grid_template_columns": null,
            "grid_template_rows": null,
            "height": null,
            "justify_content": null,
            "justify_items": null,
            "left": null,
            "margin": null,
            "max_height": null,
            "max_width": null,
            "min_height": null,
            "min_width": null,
            "object_fit": null,
            "object_position": null,
            "order": null,
            "overflow": null,
            "overflow_x": null,
            "overflow_y": null,
            "padding": null,
            "right": null,
            "top": null,
            "visibility": null,
            "width": null
          }
        },
        "d60e630103ff414185ad7eae6bd93214": {
          "model_module": "@jupyter-widgets/controls",
          "model_module_version": "1.5.0",
          "model_name": "DescriptionStyleModel",
          "state": {
            "_model_module": "@jupyter-widgets/controls",
            "_model_module_version": "1.5.0",
            "_model_name": "DescriptionStyleModel",
            "_view_count": null,
            "_view_module": "@jupyter-widgets/base",
            "_view_module_version": "1.2.0",
            "_view_name": "StyleView",
            "description_width": ""
          }
        },
        "fc9065a294684d319b9696dc2db09f6f": {
          "model_module": "@jupyter-widgets/controls",
          "model_module_version": "1.5.0",
          "model_name": "DropdownModel",
          "state": {
            "_dom_classes": [],
            "_model_module": "@jupyter-widgets/controls",
            "_model_module_version": "1.5.0",
            "_model_name": "DropdownModel",
            "_options_labels": [
              "Weekly",
              "Monthly"
            ],
            "_view_count": null,
            "_view_module": "@jupyter-widgets/controls",
            "_view_module_version": "1.5.0",
            "_view_name": "DropdownView",
            "description": "Time Period:",
            "description_tooltip": null,
            "disabled": false,
            "index": 0,
            "layout": "IPY_MODEL_8a6c114f783a4414b789d734e9bf3e72",
            "style": "IPY_MODEL_d60e630103ff414185ad7eae6bd93214"
          }
        }
      }
    }
  },
  "nbformat": 4,
  "nbformat_minor": 0
}
