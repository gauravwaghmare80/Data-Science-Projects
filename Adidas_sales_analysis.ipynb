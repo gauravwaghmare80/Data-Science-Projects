{
  "nbformat": 4,
  "nbformat_minor": 0,
  "metadata": {
    "colab": {
      "provenance": []
    },
    "kernelspec": {
      "name": "python3",
      "display_name": "Python 3"
    },
    "language_info": {
      "name": "python"
    }
  },
  "cells": [
    {
      "cell_type": "code",
      "source": [
        "!pip install findspark\n",
        "import findspark\n",
        "findspark.init()\n",
        "\n",
        "from pyspark.sql import SparkSession\n",
        "\n",
        "spark = SparkSession.builder \\\n",
        "    .appName(\"Colab PySpark Example\") \\\n",
        "    .config(\"spark.jars.packages\", \"com.crealytics:spark-excel_2.12:0.14.0\") \\\n",
        "    .getOrCreate()"
      ],
      "metadata": {
        "colab": {
          "base_uri": "https://localhost:8080/"
        },
        "id": "bsRJueZDjCHj",
        "outputId": "3c13c5db-96c8-4b09-ebac-12fffb9bc1b4"
      },
      "execution_count": 6,
      "outputs": [
        {
          "output_type": "stream",
          "name": "stdout",
          "text": [
            "Requirement already satisfied: findspark in /usr/local/lib/python3.12/dist-packages (2.0.1)\n"
          ]
        }
      ]
    },
    {
      "cell_type": "markdown",
      "source": [
        "Adidas sales data Analysis\n",
        "The objective of this project is to analyze the Adidas sales database for the year 2020 and 2021 and identify key insights to help improve sales performance and optimize business strategies.\n",
        "\n",
        "By analyzing the sales data, we aim to understand factors influencing sales, identify trends, and uncover opportunities for growth. The analysis will be conducted using databricks Notebook to provide an interactive and insightful dashboard.\n",
        "\n",
        "Business Metrics requirements\n",
        "\n",
        "Total Sales, Total Profit, Average Price per Unit, and Total Units Sold\n",
        "\n",
        "Total sales by month\n",
        "\n",
        "Total sales by state\n",
        "\n",
        "Total sales by region\n",
        "\n",
        "Total sales by product\n",
        "\n",
        "Total sales by retailer\n",
        "\n",
        "Units Sold by Product Category and Gender Type\n",
        "\n",
        "Top Performing Cities by Profit"
      ],
      "metadata": {
        "id": "MBL1BusKp2C_"
      }
    },
    {
      "cell_type": "code",
      "source": [
        "df = spark.read.csv(\"Adidas_sales_data.csv\", header = True, inferSchema=True)\n",
        "df.show()"
      ],
      "metadata": {
        "colab": {
          "base_uri": "https://localhost:8080/"
        },
        "id": "b7sl2qsakpSO",
        "outputId": "27c72dfd-fcf7-44d2-a477-2be70a7d6969"
      },
      "execution_count": 25,
      "outputs": [
        {
          "output_type": "stream",
          "name": "stdout",
          "text": [
            "+-------------+-----------+------------+---------+-----------+--------------+--------------------+--------------+----------+-----------+----------------+------------+\n",
            "|     Retailer|Retailer ID|Invoice Date|   Region|      State|          City|             Product|Price per Unit|Units Sold|Total Sales|Operating Profit|Sales Method|\n",
            "+-------------+-----------+------------+---------+-----------+--------------+--------------------+--------------+----------+-----------+----------------+------------+\n",
            "|      Walmart|    1128299|   6/17/2021|Southeast|    Florida|       Orlando|     Women's Apparel|      $103.00 |       218|      2,245|         $1,257 |      Online|\n",
            "|    West Gear|    1128299|   7/16/2021|    South|  Louisiana|   New Orleans|     Women's Apparel|      $103.00 |       163|      1,679|           $806 |      Online|\n",
            "|Sports Direct|    1197831|   8/25/2021|    South|    Alabama|    Birmingham|Men's Street Foot...|       $10.00 |       700|      7,000|         $3,150 |      Outlet|\n",
            "|Sports Direct|    1197831|   8/27/2021|    South|    Alabama|    Birmingham|Women's Street Fo...|       $15.00 |       575|      8,625|         $3,881 |      Outlet|\n",
            "|Sports Direct|    1197831|   8/21/2021|    South|    Alabama|    Birmingham|Women's Street Fo...|       $15.00 |       475|      7,125|         $3,206 |      Outlet|\n",
            "|    West Gear|    1185732|   1/11/2021|  Midwest|   Missouri|     St. Louis|Women's Street Fo...|       $15.00 |       475|      7,125|         $2,494 |    In-store|\n",
            "|Sports Direct|    1185732|  11/17/2021|    South|Mississippi|       Jackson|Men's Athletic Fo...|       $20.00 |       450|      9,000|         $3,150 |      Online|\n",
            "|Sports Direct|    1197831|   1/23/2021|    South|Mississippi|       Jackson|Women's Street Fo...|       $15.00 |       450|      6,750|         $2,700 |      Online|\n",
            "|    West Gear|    1185732|    4/3/2021|  Midwest|  Wisconsin|     Milwaukee|Men's Street Foot...|       $20.00 |       450|      9,000|         $2,700 |    In-store|\n",
            "|  Foot Locker|    1185732|   3/10/2020|Northeast|   New York|      New York|Men's Street Foot...|       $44.00 |       434|      1,910|           $993 |      Outlet|\n",
            "|  Foot Locker|    1185732|   1/18/2021|  Midwest|   Michigan|       Detroit|Women's Street Fo...|       $20.00 |       425|      8,500|         $2,975 |    In-store|\n",
            "|    West Gear|    1185732|   2/11/2021|  Midwest|   Missouri|     St. Louis|Women's Street Fo...|       $15.00 |       425|      6,375|         $2,231 |    In-store|\n",
            "|    West Gear|    1185732|   6/11/2021|     West|       Utah|Salt Lake City|Women's Street Fo...|       $20.00 |       425|      8,500|         $2,975 |    In-store|\n",
            "|       Amazon|    1185732|   4/10/2021|  Midwest|       Ohio|      Columbus|Women's Street Fo...|       $20.00 |       425|      8,500|         $3,400 |      Online|\n",
            "|  Foot Locker|    1185732|   3/16/2021|    South|Mississippi|       Jackson|Women's Street Fo...|       $15.00 |       425|      6,375|         $2,550 |      Online|\n",
            "|      Walmart|    1185732|   9/16/2021|    South|Mississippi|       Jackson|Women's Street Fo...|       $20.00 |       425|      8,500|         $3,400 |      Online|\n",
            "|      Walmart|    1197831|   2/21/2021|    South|   Arkansas|   Little Rock|     Women's Apparel|       $20.00 |       425|      8,500|         $3,400 |      Online|\n",
            "|      Walmart|    1197831|  10/21/2021|    South|   Arkansas|   Little Rock|Men's Athletic Fo...|       $20.00 |       425|      8,500|         $2,975 |      Online|\n",
            "|      Walmart|    1185732|    5/3/2020|Northeast|   New York|      New York|Men's Street Foot...|       $48.00 |       420|      2,016|         $1,129 |      Outlet|\n",
            "|      Walmart|    1185732|   4/19/2020|Northeast|   New York|      New York|Men's Street Foot...|       $39.00 |       408|      1,591|           $875 |      Outlet|\n",
            "+-------------+-----------+------------+---------+-----------+--------------+--------------------+--------------+----------+-----------+----------------+------------+\n",
            "only showing top 20 rows\n",
            "\n"
          ]
        }
      ]
    },
    {
      "cell_type": "markdown",
      "source": [
        "convert it into temperory view"
      ],
      "metadata": {
        "id": "Bcghn0YfqY7n"
      }
    },
    {
      "cell_type": "code",
      "source": [
        "df.createOrReplaceTempView(\"sales_analysis\")"
      ],
      "metadata": {
        "id": "2Sr-cZkKqAaT"
      },
      "execution_count": 26,
      "outputs": []
    },
    {
      "cell_type": "code",
      "source": [
        "df_spark = spark.sql(\"\"\"SELECT * from sales_analysis \"\"\")\n",
        "df_spark.show()"
      ],
      "metadata": {
        "colab": {
          "base_uri": "https://localhost:8080/"
        },
        "id": "JS88MX7Oq6ao",
        "outputId": "845dc57f-1ab3-47b4-bcb9-fe538df13a50"
      },
      "execution_count": 28,
      "outputs": [
        {
          "output_type": "stream",
          "name": "stdout",
          "text": [
            "+-------------+-----------+------------+---------+-----------+--------------+--------------------+--------------+----------+-----------+----------------+------------+\n",
            "|     Retailer|Retailer ID|Invoice Date|   Region|      State|          City|             Product|Price per Unit|Units Sold|Total Sales|Operating Profit|Sales Method|\n",
            "+-------------+-----------+------------+---------+-----------+--------------+--------------------+--------------+----------+-----------+----------------+------------+\n",
            "|      Walmart|    1128299|   6/17/2021|Southeast|    Florida|       Orlando|     Women's Apparel|      $103.00 |       218|      2,245|         $1,257 |      Online|\n",
            "|    West Gear|    1128299|   7/16/2021|    South|  Louisiana|   New Orleans|     Women's Apparel|      $103.00 |       163|      1,679|           $806 |      Online|\n",
            "|Sports Direct|    1197831|   8/25/2021|    South|    Alabama|    Birmingham|Men's Street Foot...|       $10.00 |       700|      7,000|         $3,150 |      Outlet|\n",
            "|Sports Direct|    1197831|   8/27/2021|    South|    Alabama|    Birmingham|Women's Street Fo...|       $15.00 |       575|      8,625|         $3,881 |      Outlet|\n",
            "|Sports Direct|    1197831|   8/21/2021|    South|    Alabama|    Birmingham|Women's Street Fo...|       $15.00 |       475|      7,125|         $3,206 |      Outlet|\n",
            "|    West Gear|    1185732|   1/11/2021|  Midwest|   Missouri|     St. Louis|Women's Street Fo...|       $15.00 |       475|      7,125|         $2,494 |    In-store|\n",
            "|Sports Direct|    1185732|  11/17/2021|    South|Mississippi|       Jackson|Men's Athletic Fo...|       $20.00 |       450|      9,000|         $3,150 |      Online|\n",
            "|Sports Direct|    1197831|   1/23/2021|    South|Mississippi|       Jackson|Women's Street Fo...|       $15.00 |       450|      6,750|         $2,700 |      Online|\n",
            "|    West Gear|    1185732|    4/3/2021|  Midwest|  Wisconsin|     Milwaukee|Men's Street Foot...|       $20.00 |       450|      9,000|         $2,700 |    In-store|\n",
            "|  Foot Locker|    1185732|   3/10/2020|Northeast|   New York|      New York|Men's Street Foot...|       $44.00 |       434|      1,910|           $993 |      Outlet|\n",
            "|  Foot Locker|    1185732|   1/18/2021|  Midwest|   Michigan|       Detroit|Women's Street Fo...|       $20.00 |       425|      8,500|         $2,975 |    In-store|\n",
            "|    West Gear|    1185732|   2/11/2021|  Midwest|   Missouri|     St. Louis|Women's Street Fo...|       $15.00 |       425|      6,375|         $2,231 |    In-store|\n",
            "|    West Gear|    1185732|   6/11/2021|     West|       Utah|Salt Lake City|Women's Street Fo...|       $20.00 |       425|      8,500|         $2,975 |    In-store|\n",
            "|       Amazon|    1185732|   4/10/2021|  Midwest|       Ohio|      Columbus|Women's Street Fo...|       $20.00 |       425|      8,500|         $3,400 |      Online|\n",
            "|  Foot Locker|    1185732|   3/16/2021|    South|Mississippi|       Jackson|Women's Street Fo...|       $15.00 |       425|      6,375|         $2,550 |      Online|\n",
            "|      Walmart|    1185732|   9/16/2021|    South|Mississippi|       Jackson|Women's Street Fo...|       $20.00 |       425|      8,500|         $3,400 |      Online|\n",
            "|      Walmart|    1197831|   2/21/2021|    South|   Arkansas|   Little Rock|     Women's Apparel|       $20.00 |       425|      8,500|         $3,400 |      Online|\n",
            "|      Walmart|    1197831|  10/21/2021|    South|   Arkansas|   Little Rock|Men's Athletic Fo...|       $20.00 |       425|      8,500|         $2,975 |      Online|\n",
            "|      Walmart|    1185732|    5/3/2020|Northeast|   New York|      New York|Men's Street Foot...|       $48.00 |       420|      2,016|         $1,129 |      Outlet|\n",
            "|      Walmart|    1185732|   4/19/2020|Northeast|   New York|      New York|Men's Street Foot...|       $39.00 |       408|      1,591|           $875 |      Outlet|\n",
            "+-------------+-----------+------------+---------+-----------+--------------+--------------------+--------------+----------+-----------+----------------+------------+\n",
            "only showing top 20 rows\n",
            "\n"
          ]
        }
      ]
    },
    {
      "cell_type": "markdown",
      "source": [
        "Total sales, Total Profit, average sales and Total unit sold"
      ],
      "metadata": {
        "id": "MHKZOOSasXwH"
      }
    },
    {
      "cell_type": "code",
      "source": [
        "df_spark = spark.sql(\"\"\"\n",
        "  select sum(`Total Sales`) as Total_sales, sum(`Operating Profit`) as Total_Operating_Profit, avg(`Total Sales`) as Average_sales, sum(`Units Sold`) as Total_Unit_Sold from sales_analysis\n",
        "\"\"\")\n",
        "df_spark.show()"
      ],
      "metadata": {
        "colab": {
          "base_uri": "https://localhost:8080/"
        },
        "id": "4ZdFf9cnrlzl",
        "outputId": "7e1fe778-bf3d-40ee-97c0-b660ee847c0c"
      },
      "execution_count": 33,
      "outputs": [
        {
          "output_type": "stream",
          "name": "stdout",
          "text": [
            "+-----------+----------------------+-----------------+---------------+\n",
            "|Total_sales|Total_Operating_Profit|    Average_sales|Total_Unit_Sold|\n",
            "+-----------+----------------------+-----------------+---------------+\n",
            "|  2284311.0|                  NULL|463.2551206651795|      2418241.0|\n",
            "+-----------+----------------------+-----------------+---------------+\n",
            "\n"
          ]
        }
      ]
    },
    {
      "cell_type": "markdown",
      "source": [
        " Total Sales by Month"
      ],
      "metadata": {
        "id": "o596bczH_HUi"
      }
    },
    {
      "cell_type": "code",
      "source": [
        "total_sales = spark.sql(\"\"\"\n",
        "  select sum(`Total Sales`) as Total_sales, date_format(`Invoice Date`, 'MMMM') as Month\n",
        "  from sales_analysis\n",
        "  group by date_format(`Invoice Date`, 'MMMM')\n",
        "  order by min(`Invoice Date`)\n",
        "\"\"\")\n",
        "total_sales.show()"
      ],
      "metadata": {
        "colab": {
          "base_uri": "https://localhost:8080/"
        },
        "id": "otvjdW9BsRFa",
        "outputId": "70c8acf2-b829-482b-b234-7553ec153b01"
      },
      "execution_count": 37,
      "outputs": [
        {
          "output_type": "stream",
          "name": "stdout",
          "text": [
            "+-----------+-----+\n",
            "|Total_sales|Month|\n",
            "+-----------+-----+\n",
            "|  2284311.0| NULL|\n",
            "+-----------+-----+\n",
            "\n"
          ]
        }
      ]
    },
    {
      "cell_type": "markdown",
      "source": [
        "Based on State"
      ],
      "metadata": {
        "id": "tVVIYNyCBUy1"
      }
    },
    {
      "cell_type": "code",
      "source": [
        "total_bystate = spark.sql(\"\"\"\n",
        "  select sum(`Total Sales`) as Total_sales, State\n",
        "  from sales_analysis\n",
        "  group by state\n",
        "  order by Total_sales desc\n",
        "  limit 5\n",
        "\"\"\")\n",
        "total_bystate.show()"
      ],
      "metadata": {
        "colab": {
          "base_uri": "https://localhost:8080/"
        },
        "id": "Vg2O4bVYBUXy",
        "outputId": "65242c7f-6e35-4b0d-ea12-ccfde990b82a"
      },
      "execution_count": 41,
      "outputs": [
        {
          "output_type": "stream",
          "name": "stdout",
          "text": [
            "+-----------+----------+\n",
            "|Total_sales|     State|\n",
            "+-----------+----------+\n",
            "|   145390.0|     Texas|\n",
            "|   112765.0|California|\n",
            "|    81382.0|   Georgia|\n",
            "|    81365.0|New Mexico|\n",
            "|    75104.0|   Arizona|\n",
            "+-----------+----------+\n",
            "\n"
          ]
        }
      ]
    },
    {
      "cell_type": "markdown",
      "source": [
        "Total sales by region"
      ],
      "metadata": {
        "id": "wkRbr6A6CwyY"
      }
    },
    {
      "cell_type": "code",
      "source": [
        "total_sales_byRegion = spark.sql(\"\"\"\n",
        "  select sum(`Total Sales`) as Total_sales, Region\n",
        "  from sales_analysis\n",
        "  group by Region\n",
        "  order by Total_sales\n",
        "\"\"\")\n",
        "total_sales_byRegion.show()"
      ],
      "metadata": {
        "colab": {
          "base_uri": "https://localhost:8080/"
        },
        "id": "NQ6vzUJoC0hg",
        "outputId": "24db28d8-3bf5-4b6b-9ade-0066e2627c29"
      },
      "execution_count": 44,
      "outputs": [
        {
          "output_type": "stream",
          "name": "stdout",
          "text": [
            "+-----------+---------+\n",
            "|Total_sales|   Region|\n",
            "+-----------+---------+\n",
            "|   291972.0|Southeast|\n",
            "|   319413.0|  Midwest|\n",
            "|   479034.0|    South|\n",
            "|   511496.0|Northeast|\n",
            "|   682396.0|     West|\n",
            "+-----------+---------+\n",
            "\n"
          ]
        }
      ]
    },
    {
      "cell_type": "markdown",
      "source": [
        "Total sales by Product\n"
      ],
      "metadata": {
        "id": "rIUTNkUSDp6a"
      }
    },
    {
      "cell_type": "code",
      "source": [
        "sales_byProduct = spark.sql(\"\"\"\n",
        "  select sum(`Total sales`) as Total_sales, Product\n",
        "  from sales_analysis\n",
        "  group by Product\n",
        "\"\"\")\n",
        "sales_byProduct.show()"
      ],
      "metadata": {
        "colab": {
          "base_uri": "https://localhost:8080/"
        },
        "id": "lwWySwQTDs8k",
        "outputId": "2cce8cfc-450d-4ed9-b398-7e8cd9f26307"
      },
      "execution_count": 46,
      "outputs": [
        {
          "output_type": "stream",
          "name": "stdout",
          "text": [
            "+-----------+--------------------+\n",
            "|Total_sales|             Product|\n",
            "+-----------+--------------------+\n",
            "|   377678.0|Men's Athletic Fo...|\n",
            "|   335671.0|Women's Athletic ...|\n",
            "|   359432.0|       Men's Apparel|\n",
            "|   395111.0|     Women's Apparel|\n",
            "|       NULL|        Men's aparel|\n",
            "|   349721.0|Women's Street Fo...|\n",
            "|   466698.0|Men's Street Foot...|\n",
            "+-----------+--------------------+\n",
            "\n"
          ]
        }
      ]
    },
    {
      "cell_type": "markdown",
      "source": [
        "Total sales by Retailer"
      ],
      "metadata": {
        "id": "_AasWYkLEkjO"
      }
    },
    {
      "cell_type": "code",
      "source": [
        "sales_byretailer = spark.sql(\"\"\"\n",
        "  select sum(`Total Sales`) as Total_sales, Retailer\n",
        "  from sales_analysis\n",
        "  group by Retailer\n",
        "  order by Total_sales\n",
        "\n",
        "\"\"\")\n",
        "sales_byretailer.show()"
      ],
      "metadata": {
        "colab": {
          "base_uri": "https://localhost:8080/"
        },
        "id": "34SXqWLnEn96",
        "outputId": "0c2bd63f-376c-40b4-acbe-6501d0ce92c1"
      },
      "execution_count": 49,
      "outputs": [
        {
          "output_type": "stream",
          "name": "stdout",
          "text": [
            "+-----------+-------------+\n",
            "|Total_sales|     Retailer|\n",
            "+-----------+-------------+\n",
            "|   156984.0|      Walmart|\n",
            "|   228509.0|       Amazon|\n",
            "|   291675.0|       Kohl's|\n",
            "|   525029.0|    West Gear|\n",
            "|   531240.0|  Foot Locker|\n",
            "|   550874.0|Sports Direct|\n",
            "+-----------+-------------+\n",
            "\n"
          ]
        }
      ]
    },
    {
      "cell_type": "markdown",
      "source": [
        "unit sold by category\n"
      ],
      "metadata": {
        "id": "QCeysf6pGiQ3"
      }
    },
    {
      "cell_type": "code",
      "source": [
        "sales_method = spark.sql(\"\"\"\n",
        "  select sum(`Total Sales`) as Total_sales , `Sales Method` as sales_method\n",
        "  from sales_analysis\n",
        "  group by sales_method\n",
        "\"\"\")\n",
        "sales_method.show()"
      ],
      "metadata": {
        "colab": {
          "base_uri": "https://localhost:8080/"
        },
        "id": "phjPoaBMGm2M",
        "outputId": "942db6e0-3b92-48a0-c6d8-bafa96b88dee"
      },
      "execution_count": 50,
      "outputs": [
        {
          "output_type": "stream",
          "name": "stdout",
          "text": [
            "+-----------+------------+\n",
            "|Total_sales|sales_method|\n",
            "+-----------+------------+\n",
            "|     3250.0|    In-store|\n",
            "|  1510964.0|      Online|\n",
            "|   770097.0|      Outlet|\n",
            "+-----------+------------+\n",
            "\n"
          ]
        }
      ]
    },
    {
      "cell_type": "markdown",
      "source": [
        "Top performance"
      ],
      "metadata": {
        "id": "InGqoEjZKL06"
      }
    },
    {
      "cell_type": "code",
      "source": [
        "top_performance = spark.sql(\"\"\"\n",
        " select sum(`Total Sales`) as Total_sales , City\n",
        " from sales_analysis\n",
        " group by City\n",
        " order by Total_sales desc\n",
        "\n",
        "\"\"\")\n",
        "top_performance.show()\n"
      ],
      "metadata": {
        "colab": {
          "base_uri": "https://localhost:8080/"
        },
        "id": "xf3iDMwxKPrT",
        "outputId": "b244cdbd-b2de-43c8-a41b-99e1d8ec40b2"
      },
      "execution_count": 51,
      "outputs": [
        {
          "output_type": "stream",
          "name": "stdout",
          "text": [
            "+-----------+-----------+\n",
            "|Total_sales|       City|\n",
            "+-----------+-----------+\n",
            "|    81382.0|    Atlanta|\n",
            "|    81365.0|Albuquerque|\n",
            "|    80897.0|    Houston|\n",
            "|    76250.0|   Portland|\n",
            "|    75104.0|    Phoenix|\n",
            "|    75023.0|  Las Vegas|\n",
            "|    73954.0|Los Angeles|\n",
            "|    71736.0| Manchester|\n",
            "|    69164.0|      Boise|\n",
            "|    69136.0|  Knoxville|\n",
            "|    65285.0| Burlington|\n",
            "|    64493.0|     Dallas|\n",
            "|    59395.0|    Jackson|\n",
            "|    59167.0| Birmingham|\n",
            "|    56120.0|    Orlando|\n",
            "|    53331.0|   Hartford|\n",
            "|    52868.0|   Richmond|\n",
            "|    52321.0|     Boston|\n",
            "|    51768.0|Little Rock|\n",
            "|    51364.0| Charleston|\n",
            "+-----------+-----------+\n",
            "only showing top 20 rows\n",
            "\n"
          ]
        }
      ]
    }
  ]
}